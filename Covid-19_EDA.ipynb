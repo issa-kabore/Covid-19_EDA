{
 "cells": [
  {
   "cell_type": "markdown",
   "metadata": {},
   "source": [
    "# Covid-19 EDA (Exploratory Data Analysis)"
   ]
  },
  {
   "cell_type": "markdown",
   "metadata": {},
   "source": [
    "## Workflow Stages\n",
    "1. Question or problem definition.\n",
    "1. Accquire training and testing data.\n",
    "1. Wrangle, prepare, cleanse the data.\n",
    "1. Analyze, identify patterns, and explore the data.\n",
    "1. Conclusion"
   ]
  },
  {
   "cell_type": "markdown",
   "metadata": {},
   "source": [
    "### Question or Problem Defination"
   ]
  },
  {
   "cell_type": "markdown",
   "metadata": {},
   "source": [
    "#### Give the estimation of death statewise with all doses and population \n",
    "\n",
    "\n",
    "1. Analyze the association between the number of doses taken and the number of deaths in each state.\n",
    "\n",
    "\n",
    "2. Calculate the growth rate of confirmed cases and death rate by state.\n",
    "\n",
    "\n",
    "3. Calculate the distribution of doses among the population of each state.\n",
    "\n",
    "\n",
    "4. Compare the population of each state based on the different doses taken.\n",
    "\n",
    "\n",
    "Estimate the relationship between following <br>\n",
    "\n",
    "\n",
    "- deaths with state, dose1, dose2, dose3, and precaution<br>\n",
    "\n",
    "- state with the highest and lowest of  death,active, dose1, dose2, dose3, precaution dose, and population\n",
    " "
   ]
  },
  {
   "cell_type": "code",
   "execution_count": 1,
   "metadata": {
    "vscode": {
     "languageId": "powershell"
    }
   },
   "outputs": [
    {
     "name": "stderr",
     "output_type": "stream",
     "text": [
      "c:\\Users\\a844026\\Anaconda3\\lib\\site-packages\\scipy\\__init__.py:146: UserWarning: A NumPy version >=1.16.5 and <1.23.0 is required for this version of SciPy (detected version 1.24.1\n",
      "  warnings.warn(f\"A NumPy version >={np_minversion} and <{np_maxversion}\"\n"
     ]
    }
   ],
   "source": [
    "# data manipulation\n",
    "import pandas as pd\n",
    "import numpy as np\n",
    "\n",
    "# data visualization\n",
    "import seaborn as sns\n",
    "import matplotlib.pyplot as plt\n",
    "%matplotlib inline\n",
    "# %reload_ext autoreload\n",
    "# %autoreload 2"
   ]
  },
  {
   "attachments": {},
   "cell_type": "markdown",
   "metadata": {},
   "source": [
    "### Get data"
   ]
  },
  {
   "cell_type": "code",
   "execution_count": 2,
   "metadata": {
    "vscode": {
     "languageId": "powershell"
    }
   },
   "outputs": [
    {
     "data": {
      "text/html": [
       "<div>\n",
       "<style scoped>\n",
       "    .dataframe tbody tr th:only-of-type {\n",
       "        vertical-align: middle;\n",
       "    }\n",
       "\n",
       "    .dataframe tbody tr th {\n",
       "        vertical-align: top;\n",
       "    }\n",
       "\n",
       "    .dataframe thead th {\n",
       "        text-align: right;\n",
       "    }\n",
       "</style>\n",
       "<table border=\"1\" class=\"dataframe\">\n",
       "  <thead>\n",
       "    <tr style=\"text-align: right;\">\n",
       "      <th></th>\n",
       "      <th>state</th>\n",
       "      <th>confirmed</th>\n",
       "      <th>active</th>\n",
       "      <th>passive</th>\n",
       "      <th>deaths</th>\n",
       "      <th>dose1</th>\n",
       "      <th>dose2</th>\n",
       "      <th>dose3</th>\n",
       "      <th>precaution_dose</th>\n",
       "      <th>total_doses</th>\n",
       "      <th>population</th>\n",
       "    </tr>\n",
       "  </thead>\n",
       "  <tbody>\n",
       "    <tr>\n",
       "      <th>0</th>\n",
       "      <td>Andaman and Nicobar</td>\n",
       "      <td>10742</td>\n",
       "      <td>1</td>\n",
       "      <td>10612</td>\n",
       "      <td>129</td>\n",
       "      <td>313284</td>\n",
       "      <td>320383</td>\n",
       "      <td>236936</td>\n",
       "      <td>53427</td>\n",
       "      <td>991263</td>\n",
       "      <td>426251</td>\n",
       "    </tr>\n",
       "    <tr>\n",
       "      <th>1</th>\n",
       "      <td>Andhra Pradesh</td>\n",
       "      <td>2339067</td>\n",
       "      <td>3</td>\n",
       "      <td>2324331</td>\n",
       "      <td>14733</td>\n",
       "      <td>40643161</td>\n",
       "      <td>43549055</td>\n",
       "      <td>11703273</td>\n",
       "      <td>6579565</td>\n",
       "      <td>110556756</td>\n",
       "      <td>52883163</td>\n",
       "    </tr>\n",
       "    <tr>\n",
       "      <th>2</th>\n",
       "      <td>Arunachal Pradesh</td>\n",
       "      <td>66890</td>\n",
       "      <td>0</td>\n",
       "      <td>66594</td>\n",
       "      <td>296</td>\n",
       "      <td>860442</td>\n",
       "      <td>747177</td>\n",
       "      <td>72403</td>\n",
       "      <td>58618</td>\n",
       "      <td>1911760</td>\n",
       "      <td>1528296</td>\n",
       "    </tr>\n",
       "  </tbody>\n",
       "</table>\n",
       "</div>"
      ],
      "text/plain": [
       "                 state  confirmed  active  passive  deaths     dose1  \\\n",
       "0  Andaman and Nicobar      10742       1    10612     129    313284   \n",
       "1       Andhra Pradesh    2339067       3  2324331   14733  40643161   \n",
       "2    Arunachal Pradesh      66890       0    66594     296    860442   \n",
       "\n",
       "      dose2     dose3  precaution_dose  total_doses  population  \n",
       "0    320383    236936            53427       991263      426251  \n",
       "1  43549055  11703273          6579565    110556756    52883163  \n",
       "2    747177     72403            58618      1911760     1528296  "
      ]
     },
     "execution_count": 2,
     "metadata": {},
     "output_type": "execute_result"
    }
   ],
   "source": [
    "# https://www.kaggle.com/datasets/swaptr/covid19-state-data### Analyze by describing data\n",
    "url = \"https://raw.githubusercontent.com/ukantjadia/30-days-of-Mahcine-Learning/Main/DAY-11/covid.csv\"\n",
    "# covid = pd.read_csv('covid.csv')\n",
    "covid = pd.read_csv(url)\n",
    "covid.head(3)"
   ]
  },
  {
   "cell_type": "markdown",
   "metadata": {},
   "source": [
    "### Analyze by describing data"
   ]
  },
  {
   "cell_type": "code",
   "execution_count": null,
   "metadata": {
    "vscode": {
     "languageId": "powershell"
    }
   },
   "outputs": [],
   "source": [
    "# Which features are available in the dataset?\n",
    "print(covid.columns.values)"
   ]
  },
  {
   "cell_type": "code",
   "execution_count": null,
   "metadata": {
    "vscode": {
     "languageId": "powershell"
    }
   },
   "outputs": [],
   "source": []
  },
  {
   "cell_type": "code",
   "execution_count": null,
   "metadata": {
    "vscode": {
     "languageId": "powershell"
    }
   },
   "outputs": [],
   "source": []
  }
 ],
 "metadata": {
  "kernelspec": {
   "display_name": "base",
   "language": "python",
   "name": "python3"
  },
  "language_info": {
   "codemirror_mode": {
    "name": "ipython",
    "version": 3
   },
   "file_extension": ".py",
   "mimetype": "text/x-python",
   "name": "python",
   "nbconvert_exporter": "python",
   "pygments_lexer": "ipython3",
   "version": "3.9.7"
  },
  "orig_nbformat": 4,
  "vscode": {
   "interpreter": {
    "hash": "b1e9c90fab023ea0c8ba91a17efd3956c25debe21536fc0cee336e09bae0ab79"
   }
  }
 },
 "nbformat": 4,
 "nbformat_minor": 2
}
